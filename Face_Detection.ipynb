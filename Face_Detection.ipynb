{
 "cells": [
  {
   "cell_type": "markdown",
   "metadata": {},
   "source": [
    "##### STEP 1 - IMPORTS"
   ]
  },
  {
   "cell_type": "code",
   "metadata": {
    "ExecuteTime": {
     "end_time": "2025-01-02T10:52:59.666197Z",
     "start_time": "2025-01-02T10:52:59.662173Z"
    }
   },
   "source": [
    "import cv2\n",
    "import numpy as np"
   ],
   "outputs": [],
   "execution_count": 12
  },
  {
   "cell_type": "markdown",
   "metadata": {},
   "source": [
    "##### STEP 2 - Creating the confirmation function"
   ]
  },
  {
   "cell_type": "code",
   "metadata": {
    "ExecuteTime": {
     "end_time": "2025-01-02T10:52:59.676005Z",
     "start_time": "2025-01-02T10:52:59.672203Z"
    }
   },
   "source": [
    "def ask_confirmation():\n",
    "    print(\"please press 0 to activate the face detector or ESC\")\n",
    "    choice = input(\"Please enter your choice\")\n",
    "    \n",
    "    if choice == '0':\n",
    "        tracker = cv2.legacy.TrackerBoosting_create()\n",
    "    else:\n",
    "        print(\"Please enter a valid input..!\")\n",
    "    return tracker\n",
    "    return tracker"
   ],
   "outputs": [],
   "execution_count": 13
  },
  {
   "cell_type": "markdown",
   "metadata": {},
   "source": [
    "##### STEP 3 - we now here captiure here the first frame and select which faces we need to scan "
   ]
  },
  {
   "cell_type": "code",
   "metadata": {
    "ExecuteTime": {
     "end_time": "2025-01-02T10:53:12.363809Z",
     "start_time": "2025-01-02T10:52:59.684256Z"
    }
   },
   "source": [
    "tracker = ask_confirmation()\n",
    "tracker_name = str(tracker).split()[1][11:28]\n",
    "\n",
    "cap = cv2.VideoCapture(0)\n",
    "ret ,frame = cap.read()\n",
    "\n",
    "roi = cv2.selectROI(frame) # lets you define the object to track.\n",
    "\n",
    "ret = tracker.init(frame,roi) # starts the tracking process using that defined object."
   ],
   "outputs": [
    {
     "name": "stdout",
     "output_type": "stream",
     "text": [
      "please press 0 to activate the face detector or ESC\n"
     ]
    }
   ],
   "execution_count": 14
  },
  {
   "cell_type": "markdown",
   "metadata": {
    "jupyter": {
     "source_hidden": true
    }
   },
   "source": [
    "Line 1: roi = cv2.selectROI(frame, False)\n",
    "\n",
    "    Function Purpose: The cv2.selectROI() function lets you manually select a region of interest (ROI) on an image or video frame.\n",
    "\n",
    "    Parameters:\n",
    "        frame: This is the image or video frame on which you're selecting the ROI. Here, frame is the image data where you want to define the area to track.\n",
    "        False: The second parameter allows you to specify whether you want to show a \"bounding box\" (rectangle) that can be resized. Setting it to False disables the automatic resizing box, so you can adjust the size manually.\n",
    "\n",
    "    How It Works:\n",
    "        When this line runs, a pop-up window appears with the image displayed. You can then use the mouse to select a rectangular region, defining the area in the frame that you want to track.\n",
    "        The function returns a tuple (x, y, w, h) representing the selected ROI's top-left corner coordinates (x, y) and the width w and height h.\n",
    "\n",
    "    Result:\n",
    "        The variable roi now holds the coordinates of the selected region. This defines the \"initial area\" to track in subsequent frames."
   ]
  },
  {
   "cell_type": "markdown",
   "metadata": {
    "jupyter": {
     "source_hidden": true
    }
   },
   "source": [
    "Line 2: ret = tracker.init(frame, roi)\n",
    "\n",
    "    Function Purpose: This initializes the tracker with the selected ROI on the current frame.\n",
    "\n",
    "    Parameters:\n",
    "        frame: This is the initial frame where the ROI is located. The tracker uses this frame to understand the appearance of the object in the selected region.\n",
    "        roi: This is the region of interest returned from cv2.selectROI() in the previous line. It tells the tracker which area to focus on.\n",
    "\n",
    "    How It Works:\n",
    "        The tracker analyzes the initial appearance of the object within the ROI on this frame. Based on this, it learns specific features (like color, edges, and texture) that it can use to keep track of the object in future frames.\n",
    "        The function returns True if the initialization is successful and False otherwise, stored in ret.\n",
    "\n",
    "    Result:\n",
    "        After initialization, the tracker will be able to follow the selected ROI across frames, adjusting its location based on the movement detected."
   ]
  },
  {
   "cell_type": "code",
   "metadata": {
    "ExecuteTime": {
     "end_time": "2025-01-02T10:54:10.576917Z",
     "start_time": "2025-01-02T10:53:12.370683Z"
    }
   },
   "source": [
    "while True:\n",
    "    # Read a new frame\n",
    "    ret, frame = cap.read()\n",
    "    \n",
    "    # updating the detection of roi in the new frame\n",
    "    success, roi = tracker.update(frame)\n",
    "    \n",
    "    # roi variable is a tuple of 4 floats\n",
    "    # We need each value and we need them as integers\n",
    "    (x,y,w,h) = tuple(map(int,roi))\n",
    "    \n",
    "    # if the tracking of the new object was successful then perform further \n",
    "    if success:\n",
    "        # Tracking success\n",
    "        p1 = (x, y)\n",
    "        p2 = (x+w, y+h)\n",
    "        cv2.rectangle(frame, p1, p2, (0,255,0), 3)\n",
    "    \n",
    "    # if Tracking failure\n",
    "    else :\n",
    "        cv2.putText(frame, \"Failure to Detect Tracking!!\", (100,200), cv2.FONT_HERSHEY_SIMPLEX, 1,(0,0,255),3)\n",
    "    \n",
    "    # Displaying the tracker type on frame\n",
    "    cv2.putText(frame, tracker_name, (20,400), cv2.FONT_HERSHEY_SIMPLEX, 1, (0,255,0),3)\n",
    "    \n",
    "    # displaying th results\n",
    "    cv2.imshow(tracker_name,frame)\n",
    "    \n",
    "    # breaking the loop after the user has completed the tracking process\n",
    "    k = cv2.waitKey(1) & 0xff\n",
    "    if k == 27:\n",
    "        break\n",
    "\n",
    "cap.release()\n",
    "cv2.destroyAllWindows()"
   ],
   "outputs": [],
   "execution_count": 15
  },
  {
   "cell_type": "markdown",
   "metadata": {
    "jupyter": {
     "source_hidden": true
    }
   },
   "source": [
    "1. while True:\n",
    "\n",
    "This sets up an infinite loop to continuously read frames from a video, update the tracker, and display the results. You’ll typically exit this loop with a break condition (like pressing a key).\n",
    "2. ret, frame = cap.read()\n",
    "\n",
    "    This line reads a new frame from the video capture object cap.\n",
    "    cap.read() returns two values:\n",
    "        ret: A Boolean value that indicates whether the frame was successfully read (True) or not (False).\n",
    "        frame: The actual frame data, which is an image array.\n",
    "\n",
    "This line essentially fetches the next frame from the video source.\n",
    "3. success, roi = tracker.update(frame)\n",
    "\n",
    "    Purpose: This line updates the tracker with the new frame.\n",
    "    tracker.update() takes the new frame as input and tries to find the tracked object (ROI) in it.\n",
    "    tracker.update() returns:\n",
    "        success: A Boolean indicating if the tracking was successful. If True, the tracker has found the object in the new frame.\n",
    "        roi: A tuple of four floats (x, y, w, h) representing the updated region of interest:\n",
    "            x and y: Coordinates of the top-left corner of the tracked object.\n",
    "            w and h: Width and height of the tracked object.\n",
    "\n",
    "4. (x, y, w, h) = tuple(map(int, roi))\n",
    "\n",
    "    Purpose: This line unpacks the four values from roi and converts them to integers.\n",
    "    Since roi returns floats, map(int, roi) converts each float to an integer. The tuple() function wraps the result into a tuple.\n",
    "    (x, y, w, h): This assignment unpacks the tuple into individual variables representing the position and size of the tracked object."
   ]
  },
  {
   "cell_type": "markdown",
   "metadata": {
    "jupyter": {
     "source_hidden": true
    }
   },
   "source": [
    "What map() Does\n",
    "\n",
    "The map() function in Python applies a given function to each item in an iterable (like a list or tuple) and returns a new iterator with the results. It’s particularly useful for quickly applying a transformation to each element in a collection.\n",
    "Breaking Down map(int, roi)\n",
    "\n",
    "    Function as the First Argument: map() takes a function as its first argument. Here, int is the function, which converts values to integers.\n",
    "\n",
    "    Iterable as the Second Argument: The second argument is an iterable, like a list or tuple, where each element will be processed by the function. In this case, roi is the iterable, containing four floating-point numbers representing (x, y, w, h) coordinates.\n",
    "\n",
    "    Application of map: map(int, roi) applies the int function to each element in roi. So, each float in (x, y, w, h) is passed to int(), converting it to an integer.\n",
    "\n",
    "Result\n",
    "\n",
    "    map(int, roi) produces a new iterator where each element of roi is converted to an integer.\n",
    "    Wrapping it with tuple(...) creates a tuple from this iterator, so now you have an integer version of the coordinates.\n",
    "\n",
    "Why Use map()?\n",
    "\n",
    "Using map() is both concise and efficient. Instead of looping through roi and converting each element one by one, map(int, roi) handles the conversion in a single line, which is both clean and faster."
   ]
  }
 ],
 "metadata": {
  "kernelspec": {
   "display_name": "base",
   "language": "python",
   "name": "python3"
  },
  "language_info": {
   "codemirror_mode": {
    "name": "ipython",
    "version": 3
   },
   "file_extension": ".py",
   "mimetype": "text/x-python",
   "name": "python",
   "nbconvert_exporter": "python",
   "pygments_lexer": "ipython3",
   "version": "3.12.3"
  }
 },
 "nbformat": 4,
 "nbformat_minor": 4
}
